{
 "cells": [
  {
   "cell_type": "markdown",
   "id": "3ced662c-f6ee-44a2-bbce-fc0fce156502",
   "metadata": {},
   "source": [
    "# NumPy"
   ]
  },
  {
   "cell_type": "code",
   "execution_count": 1,
   "id": "2e53c6f8-41c0-486e-905d-2bf9145e9787",
   "metadata": {},
   "outputs": [
    {
     "name": "stdout",
     "output_type": "stream",
     "text": [
      "[1 2 3 4 5]\n"
     ]
    }
   ],
   "source": [
    "#배열 생성하기\n",
    "import numpy as np\n",
    "\n",
    "#1차원 배열 생성하기\n",
    "arr = np.array([1,2,3,4,5])\n",
    "print(arr)"
   ]
  },
  {
   "cell_type": "code",
   "execution_count": 2,
   "id": "70a467d2-3365-4ded-ab74-4fdc7e180c53",
   "metadata": {},
   "outputs": [
    {
     "name": "stdout",
     "output_type": "stream",
     "text": [
      "[11 12 13 14 15]\n"
     ]
    }
   ],
   "source": [
    "# 배열 덧셈\n",
    "arr2 = arr + 10\n",
    "print(arr2)"
   ]
  },
  {
   "cell_type": "code",
   "execution_count": null,
   "id": "7ad1dff5-9db1-49b0-a271-4c2a82f0ba7e",
   "metadata": {},
   "outputs": [],
   "source": [
    "#배열의 모양 변경\n",
    "arr_reshaped = arr.reshape((1,5)"
   ]
  }
 ],
 "metadata": {
  "kernelspec": {
   "display_name": "Python self_studies",
   "language": "python",
   "name": "self_studies"
  },
  "language_info": {
   "codemirror_mode": {
    "name": "ipython",
    "version": 3
   },
   "file_extension": ".py",
   "mimetype": "text/x-python",
   "name": "python",
   "nbconvert_exporter": "python",
   "pygments_lexer": "ipython3",
   "version": "3.11.10"
  }
 },
 "nbformat": 4,
 "nbformat_minor": 5
}
