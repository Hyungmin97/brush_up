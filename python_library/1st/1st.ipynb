{
 "cells": [
  {
   "cell_type": "markdown",
   "id": "32e21030-5438-4833-8c96-969892b94998",
   "metadata": {},
   "source": [
    "# Pandas"
   ]
  },
  {
   "cell_type": "code",
   "execution_count": 2,
   "id": "8c83ccec-e179-49d9-baf8-132d778d0bf2",
   "metadata": {},
   "outputs": [
    {
     "name": "stdout",
     "output_type": "stream",
     "text": [
      "a    10\n",
      "b    20\n",
      "c    30\n",
      "d    40\n",
      "dtype: int64\n"
     ]
    }
   ],
   "source": [
    "#시리즈\n",
    "\n",
    "import pandas as pd\n",
    "\n",
    "#예시: 시리즈 생성\n",
    "s = pd.Series([10,20,30,40], index=['a','b','c','d'])\n",
    "\n",
    "print(s)"
   ]
  },
  {
   "cell_type": "code",
   "execution_count": 8,
   "id": "689ef553-c4c7-44e8-860a-4a6e20498041",
   "metadata": {},
   "outputs": [
    {
     "name": "stdout",
     "output_type": "stream",
     "text": [
      "   이름  나이          직업\n",
      "0  철수  35       홈프로텍터\n",
      "1  영희  40      목탁디자이너\n",
      "2  민수  43  문구편집샵 큐레이터\n"
     ]
    }
   ],
   "source": [
    "#데이터프레임\n",
    "\n",
    "#예시: 데이터프레임 생성\n",
    "data = {\n",
    "    '이름': ['철수', '영희', '민수'],\n",
    "    '나이': [35,40,43],\n",
    "    '직업': ['홈프로텍터', '목탁디자이너', '문구편집샵 큐레이터']\n",
    "}\n",
    "\n",
    "df = pd.DataFrame(data)\n",
    "print(df)"
   ]
  },
  {
   "cell_type": "code",
   "execution_count": 11,
   "id": "6023c913-7e62-40c6-866a-cf281c534345",
   "metadata": {},
   "outputs": [
    {
     "data": {
      "text/plain": [
       "0    철수\n",
       "1    영희\n",
       "2    민수\n",
       "Name: 이름, dtype: object"
      ]
     },
     "execution_count": 11,
     "metadata": {},
     "output_type": "execute_result"
    }
   ],
   "source": [
    "#출력\n",
    "df[\"이름\"]\n",
    "\n",
    "#인덱스와 컬럼명을 이용해, 특정 데이터에 접근 가능."
   ]
  }
 ],
 "metadata": {
  "kernelspec": {
   "display_name": "Python self_studies",
   "language": "python",
   "name": "self_studies"
  },
  "language_info": {
   "codemirror_mode": {
    "name": "ipython",
    "version": 3
   },
   "file_extension": ".py",
   "mimetype": "text/x-python",
   "name": "python",
   "nbconvert_exporter": "python",
   "pygments_lexer": "ipython3",
   "version": "3.11.10"
  }
 },
 "nbformat": 4,
 "nbformat_minor": 5
}
