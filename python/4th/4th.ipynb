{
 "cells": [
  {
   "cell_type": "markdown",
   "id": "eba6000d-aff9-4f49-82c4-536839c862c1",
   "metadata": {},
   "source": [
    "# 클래스, 객체: 객체지향"
   ]
  },
  {
   "cell_type": "code",
   "execution_count": 13,
   "id": "0531c7e4-1bf1-45d6-835f-8121829b9724",
   "metadata": {},
   "outputs": [
    {
     "name": "stdout",
     "output_type": "stream",
     "text": [
      "Buddy가 짖습니다.\n"
     ]
    }
   ],
   "source": [
    "#실습\n",
    "class Dog: #클래스 정의\n",
    "    def __init__(self, name, breed):\n",
    "        self.name = name #속성 정의\n",
    "        self.breed = breed\n",
    "\n",
    "    def bark(self): #메서드 정의\n",
    "        return f\"{self.name}가 짖습니다.\"\n",
    "\n",
    "#객체 생성\n",
    "my_dog = Dog(\"Buddy\", \"Golden Retriever\")\n",
    "print(my_dog.bark())"
   ]
  },
  {
   "cell_type": "code",
   "execution_count": 17,
   "id": "bf095279-1250-4262-bc11-9150485929a6",
   "metadata": {},
   "outputs": [
    {
     "name": "stdout",
     "output_type": "stream",
     "text": [
      "안녕하세요 경영학과 이형민님!\n"
     ]
    }
   ],
   "source": [
    "#실습\n",
    "class Greet: #클래스 정의\n",
    "    def __init__(self, name, major):\n",
    "        self.name = name\n",
    "        self.major = major\n",
    "\n",
    "    def hi(self):\n",
    "        return f\"안녕하세요 {self.major}학과 {self.name}님!\"\n",
    "\n",
    "#객체 생성\n",
    "my_major = Greet(\"이형민\", \"경영\")\n",
    "print(my_major.hi())"
   ]
  },
  {
   "cell_type": "code",
   "execution_count": 21,
   "id": "c5ad9ece-7ad9-4b9e-b379-66e2394cccfe",
   "metadata": {},
   "outputs": [
    {
     "name": "stdout",
     "output_type": "stream",
     "text": [
      "이형민님의 시험 성적은 100점 입니다. 등급은 A입니다.\n",
      "이도성님의 시험 성적은 50점 입니다. 등급은 D입니다.\n"
     ]
    }
   ],
   "source": [
    "#실습\n",
    "class Test:\n",
    "    def __init__(self, name, score, grade):\n",
    "        self.name = name\n",
    "        self.score = score\n",
    "        self.grade = grade\n",
    "\n",
    "    def sentence(self):\n",
    "        return f\"{self.name}님의 시험 성적은 {self.score}점 입니다. 등급은 {self.grade}입니다.\"\n",
    "\n",
    "student1 = Test(\"이형민\", 100, \"A\")\n",
    "student2 = Test(\"이도성\", 50, \"D\") \n",
    "print(student1.sentence())\n",
    "print(student2.sentence())"
   ]
  },
  {
   "cell_type": "code",
   "execution_count": null,
   "id": "4a7e8214-4774-4872-80e4-d42dd88b43a3",
   "metadata": {},
   "outputs": [],
   "source": []
  },
  {
   "cell_type": "markdown",
   "id": "d328a07c-6302-43e8-be46-6a024910e633",
   "metadata": {},
   "source": [
    "# 클래스 만들기"
   ]
  },
  {
   "cell_type": "code",
   "execution_count": 22,
   "id": "0695400d-c1aa-4ce7-a020-0035b74c762a",
   "metadata": {},
   "outputs": [],
   "source": [
    "class Ai_student:\n",
    "    pass"
   ]
  },
  {
   "cell_type": "code",
   "execution_count": 23,
   "id": "2b240c5c-bd30-4def-8f5a-6571c51606a7",
   "metadata": {},
   "outputs": [],
   "source": [
    "def test_function():\n",
    "    pass"
   ]
  },
  {
   "cell_type": "code",
   "execution_count": 24,
   "id": "723c53fd-bb31-4c1d-b634-6ff28b35fce8",
   "metadata": {},
   "outputs": [],
   "source": [
    "if True:\n",
    "    pass"
   ]
  },
  {
   "cell_type": "code",
   "execution_count": 25,
   "id": "7a319002-ffd2-4c0c-a9f5-4e7d4c9cd0e6",
   "metadata": {},
   "outputs": [],
   "source": [
    "#위의 세 가지 요소에서도 모두 pass 사용 가능"
   ]
  },
  {
   "cell_type": "code",
   "execution_count": null,
   "id": "684d4916-6bc1-4a35-af9e-2cc0fe041631",
   "metadata": {},
   "outputs": [],
   "source": []
  },
  {
   "cell_type": "code",
   "execution_count": 31,
   "id": "dfa8cf6c-b9ee-4c16-9bad-6fcc86875a19",
   "metadata": {},
   "outputs": [],
   "source": [
    "class Ai_student:\n",
    "    def __init__(self, input_name):\n",
    "        self.name = input_name"
   ]
  },
  {
   "cell_type": "code",
   "execution_count": 37,
   "id": "f96865b5-afbb-40f5-ba3d-2ec3f060d649",
   "metadata": {},
   "outputs": [
    {
     "data": {
      "text/plain": [
       "'이형민'"
      ]
     },
     "execution_count": 37,
     "metadata": {},
     "output_type": "execute_result"
    }
   ],
   "source": [
    "형민 = Ai_student(\"이형민\")\n",
    "형민.name"
   ]
  },
  {
   "cell_type": "code",
   "execution_count": null,
   "id": "d271934a-2c54-4543-90e7-d92ceb456ff6",
   "metadata": {},
   "outputs": [],
   "source": []
  },
  {
   "cell_type": "code",
   "execution_count": 50,
   "id": "da6e21be-62fc-4109-a13c-037a8d15b75e",
   "metadata": {},
   "outputs": [],
   "source": [
    "class Ai_student:\n",
    "    def __init__(self, input_name):\n",
    "        self.name = input_name\n",
    "\n",
    "    def greet(self):\n",
    "        print(f\"Hello, my name is {self.name}\")\n",
    "\n",
    "    def test(self):\n",
    "        print(\"hello\")"
   ]
  },
  {
   "cell_type": "code",
   "execution_count": 51,
   "id": "61f9fcef-6f43-46d9-9707-c2410850b67b",
   "metadata": {},
   "outputs": [
    {
     "data": {
      "text/plain": [
       "'이형민'"
      ]
     },
     "execution_count": 51,
     "metadata": {},
     "output_type": "execute_result"
    }
   ],
   "source": [
    "형민 = Ai_student(\"이형민\")\n",
    "형민.name"
   ]
  },
  {
   "cell_type": "code",
   "execution_count": 52,
   "id": "82f9f872-c67e-4a84-86c1-ba7c78b609e0",
   "metadata": {},
   "outputs": [
    {
     "name": "stdout",
     "output_type": "stream",
     "text": [
      "Hello, my name is 이형민\n",
      "hello\n"
     ]
    }
   ],
   "source": [
    "형민.greet()\n",
    "형민.test()"
   ]
  },
  {
   "cell_type": "code",
   "execution_count": null,
   "id": "18c3646a-a769-439d-9919-98acb10eb4f8",
   "metadata": {},
   "outputs": [],
   "source": []
  },
  {
   "cell_type": "code",
   "execution_count": null,
   "id": "970a607f-ff79-490a-968b-752d62398723",
   "metadata": {},
   "outputs": [],
   "source": [
    "#241107: 파이썬 4-3. \"클래스 더 나아가기\"부터 학습 진행."
   ]
  }
 ],
 "metadata": {
  "kernelspec": {
   "display_name": "Python self_studies",
   "language": "python",
   "name": "self_studies"
  },
  "language_info": {
   "codemirror_mode": {
    "name": "ipython",
    "version": 3
   },
   "file_extension": ".py",
   "mimetype": "text/x-python",
   "name": "python",
   "nbconvert_exporter": "python",
   "pygments_lexer": "ipython3",
   "version": "3.11.10"
  }
 },
 "nbformat": 4,
 "nbformat_minor": 5
}
