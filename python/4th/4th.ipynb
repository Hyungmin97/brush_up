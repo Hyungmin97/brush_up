{
 "cells": [
  {
   "cell_type": "markdown",
   "id": "eba6000d-aff9-4f49-82c4-536839c862c1",
   "metadata": {},
   "source": [
    "# 클래스, 객체: 객체지향"
   ]
  },
  {
   "cell_type": "code",
   "execution_count": 13,
   "id": "0531c7e4-1bf1-45d6-835f-8121829b9724",
   "metadata": {},
   "outputs": [
    {
     "name": "stdout",
     "output_type": "stream",
     "text": [
      "Buddy가 짖습니다.\n"
     ]
    }
   ],
   "source": [
    "#실습\n",
    "class Dog: #클래스 정의\n",
    "    def __init__(self, name, breed):\n",
    "        self.name = name #속성 정의\n",
    "        self.breed = breed\n",
    "\n",
    "    def bark(self): #메서드 정의\n",
    "        return f\"{self.name}가 짖습니다.\"\n",
    "\n",
    "#객체 생성\n",
    "my_dog = Dog(\"Buddy\", \"Golden Retriever\")\n",
    "print(my_dog.bark())"
   ]
  },
  {
   "cell_type": "code",
   "execution_count": 17,
   "id": "bf095279-1250-4262-bc11-9150485929a6",
   "metadata": {},
   "outputs": [
    {
     "name": "stdout",
     "output_type": "stream",
     "text": [
      "안녕하세요 경영학과 이형민님!\n"
     ]
    }
   ],
   "source": [
    "#실습\n",
    "class Greet: #클래스 정의\n",
    "    def __init__(self, name, major):\n",
    "        self.name = name\n",
    "        self.major = major\n",
    "\n",
    "    def hi(self):\n",
    "        return f\"안녕하세요 {self.major}학과 {self.name}님!\"\n",
    "\n",
    "#객체 생성\n",
    "my_major = Greet(\"이형민\", \"경영\")\n",
    "print(my_major.hi())"
   ]
  },
  {
   "cell_type": "code",
   "execution_count": 21,
   "id": "c5ad9ece-7ad9-4b9e-b379-66e2394cccfe",
   "metadata": {},
   "outputs": [
    {
     "name": "stdout",
     "output_type": "stream",
     "text": [
      "이형민님의 시험 성적은 100점 입니다. 등급은 A입니다.\n",
      "이도성님의 시험 성적은 50점 입니다. 등급은 D입니다.\n"
     ]
    }
   ],
   "source": [
    "#실습\n",
    "class Test:\n",
    "    def __init__(self, name, score, grade):\n",
    "        self.name = name\n",
    "        self.score = score\n",
    "        self.grade = grade\n",
    "\n",
    "    def sentence(self):\n",
    "        return f\"{self.name}님의 시험 성적은 {self.score}점 입니다. 등급은 {self.grade}입니다.\"\n",
    "\n",
    "student1 = Test(\"이형민\", 100, \"A\")\n",
    "student2 = Test(\"이도성\", 50, \"D\") \n",
    "print(student1.sentence())\n",
    "print(student2.sentence())"
   ]
  },
  {
   "cell_type": "code",
   "execution_count": null,
   "id": "4a7e8214-4774-4872-80e4-d42dd88b43a3",
   "metadata": {},
   "outputs": [],
   "source": []
  },
  {
   "cell_type": "markdown",
   "id": "d328a07c-6302-43e8-be46-6a024910e633",
   "metadata": {},
   "source": [
    "# 클래스 만들기"
   ]
  },
  {
   "cell_type": "code",
   "execution_count": 22,
   "id": "0695400d-c1aa-4ce7-a020-0035b74c762a",
   "metadata": {},
   "outputs": [],
   "source": [
    "class Ai_student:\n",
    "    pass"
   ]
  },
  {
   "cell_type": "code",
   "execution_count": 23,
   "id": "2b240c5c-bd30-4def-8f5a-6571c51606a7",
   "metadata": {},
   "outputs": [],
   "source": [
    "def test_function():\n",
    "    pass"
   ]
  },
  {
   "cell_type": "code",
   "execution_count": 24,
   "id": "723c53fd-bb31-4c1d-b634-6ff28b35fce8",
   "metadata": {},
   "outputs": [],
   "source": [
    "if True:\n",
    "    pass"
   ]
  },
  {
   "cell_type": "code",
   "execution_count": null,
   "id": "7a319002-ffd2-4c0c-a9f5-4e7d4c9cd0e6",
   "metadata": {},
   "outputs": [],
   "source": [
    "#위의 세 가지 요소에서도 모두 pass 사용 가능"
   ]
  },
  {
   "cell_type": "code",
   "execution_count": null,
   "id": "684d4916-6bc1-4a35-af9e-2cc0fe041631",
   "metadata": {},
   "outputs": [],
   "source": []
  },
  {
   "cell_type": "code",
   "execution_count": 31,
   "id": "dfa8cf6c-b9ee-4c16-9bad-6fcc86875a19",
   "metadata": {},
   "outputs": [],
   "source": [
    "class Ai_student:\n",
    "    def __init__(self, input_name):\n",
    "        self.name = input_name"
   ]
  },
  {
   "cell_type": "code",
   "execution_count": 37,
   "id": "f96865b5-afbb-40f5-ba3d-2ec3f060d649",
   "metadata": {},
   "outputs": [
    {
     "data": {
      "text/plain": [
       "'이형민'"
      ]
     },
     "execution_count": 37,
     "metadata": {},
     "output_type": "execute_result"
    }
   ],
   "source": [
    "형민 = Ai_student(\"이형민\")\n",
    "형민.name"
   ]
  },
  {
   "cell_type": "code",
   "execution_count": null,
   "id": "d271934a-2c54-4543-90e7-d92ceb456ff6",
   "metadata": {},
   "outputs": [],
   "source": []
  },
  {
   "cell_type": "code",
   "execution_count": 50,
   "id": "da6e21be-62fc-4109-a13c-037a8d15b75e",
   "metadata": {},
   "outputs": [],
   "source": [
    "class Ai_student:\n",
    "    def __init__(self, input_name):\n",
    "        self.name = input_name\n",
    "\n",
    "    def greet(self):\n",
    "        print(f\"Hello, my name is {self.name}\")\n",
    "\n",
    "    def test(self):\n",
    "        print(\"hello\")"
   ]
  },
  {
   "cell_type": "code",
   "execution_count": 51,
   "id": "61f9fcef-6f43-46d9-9707-c2410850b67b",
   "metadata": {},
   "outputs": [
    {
     "data": {
      "text/plain": [
       "'이형민'"
      ]
     },
     "execution_count": 51,
     "metadata": {},
     "output_type": "execute_result"
    }
   ],
   "source": [
    "형민 = Ai_student(\"이형민\")\n",
    "형민.name"
   ]
  },
  {
   "cell_type": "code",
   "execution_count": 52,
   "id": "82f9f872-c67e-4a84-86c1-ba7c78b609e0",
   "metadata": {},
   "outputs": [
    {
     "name": "stdout",
     "output_type": "stream",
     "text": [
      "Hello, my name is 이형민\n",
      "hello\n"
     ]
    }
   ],
   "source": [
    "형민.greet()\n",
    "형민.test()"
   ]
  },
  {
   "cell_type": "code",
   "execution_count": null,
   "id": "18c3646a-a769-439d-9919-98acb10eb4f8",
   "metadata": {},
   "outputs": [],
   "source": []
  },
  {
   "cell_type": "markdown",
   "id": "0447083e-0769-4a18-9ecb-67ed491c691d",
   "metadata": {},
   "source": [
    "# 클래스 더 나아가기"
   ]
  },
  {
   "cell_type": "code",
   "execution_count": 25,
   "id": "57ccf9eb-a9f0-4c8d-8fdd-60fd2a5d983e",
   "metadata": {},
   "outputs": [
    {
     "name": "stdout",
     "output_type": "stream",
     "text": [
      "__init__ 실습\n",
      "이형민\n",
      "28\n",
      "------------------------------------\n",
      "__repr__ 실습\n",
      "human('이형민', 28)\n",
      "------------------------------------\n",
      "__add__ 실습\n",
      "이형민최홍만\n",
      "73\n",
      "None\n",
      "------------------------------------\n",
      "__eq__ 실습\n",
      "다른 이름입니다.\n",
      "None\n",
      "------------------------------------\n",
      "__str__ 실습\n",
      "이형민은 28살 입니다.\n",
      "최홍만은 45살 입니다.\n"
     ]
    }
   ],
   "source": [
    "#실습 - 매직 메서드\n",
    "\n",
    "class human:\n",
    "    def __init__(self, name, age):\n",
    "        self.name = name\n",
    "        self.age = age\n",
    "    def __repr__(self):\n",
    "        return f\"human('{self.name}', {self.age})\"\n",
    "    def __add__(self, other): #객체 간의 덧셈 시, 자기자신 뿐 아닌 다른 것도 들어오기 때문에 other\n",
    "        print(self.name + other.name)\n",
    "        print(self.age + other.age)\n",
    "    def __eq__(self, other):\n",
    "        if self.name == other.name:\n",
    "            print(\"동일 이름입니다.\")\n",
    "        else:\n",
    "            print(\"다른 이름입니다.\")\n",
    "    def __str__(self):\n",
    "        return f\"{self.name}은 {self.age}살 입니다.\"\n",
    "        \n",
    "    \n",
    "lee = human(\"이형민\", 28)\n",
    "print(\"__init__ 실습\")\n",
    "print(lee.name)\n",
    "print(lee.age)\n",
    "print(\"------------------------------------\")\n",
    "print(\"__repr__ 실습\")\n",
    "print(repr(lee)) #객체 lee 전달\n",
    "print(\"------------------------------------\")\n",
    "print(\"__add__ 실습\")\n",
    "choi = human(\"최홍만\", 45)\n",
    "print(lee + choi)\n",
    "print(\"------------------------------------\")\n",
    "print(\"__eq__ 실습\")\n",
    "print(lee == choi)\n",
    "print(\"------------------------------------\")\n",
    "print(\"__str__ 실습\")\n",
    "print(lee)\n",
    "print(choi)"
   ]
  },
  {
   "cell_type": "code",
   "execution_count": 27,
   "id": "7126986c-ee05-4d25-8680-a34d2e13dfcc",
   "metadata": {},
   "outputs": [
    {
     "name": "stdout",
     "output_type": "stream",
     "text": [
      "1\n"
     ]
    }
   ],
   "source": [
    "#실습 - 클래스 메서드\n",
    "\n",
    "class MyClass:\n",
    "    class_variable = 0\n",
    "\n",
    "    @classmethod\n",
    "    def increment(cls):\n",
    "        cls.class_variable += 1\n",
    "\n",
    "# 클래스 메서드 호출\n",
    "MyClass.increment()\n",
    "print(MyClass.class_variable)  # 1\n"
   ]
  },
  {
   "cell_type": "code",
   "execution_count": 32,
   "id": "4c637602-ae06-4e62-96b4-21bab898805f",
   "metadata": {},
   "outputs": [
    {
     "name": "stdout",
     "output_type": "stream",
     "text": [
      "8\n",
      "------------------------------------\n",
      "실습 코드\n",
      "12\n"
     ]
    }
   ],
   "source": [
    "#실습 - 정적 메서드\n",
    "class Utility:\n",
    "    @staticmethod\n",
    "    def add(x, y):\n",
    "        return x + y\n",
    "\n",
    "# 정적 메서드 호출\n",
    "result = Utility.add(5, 3)\n",
    "print(result)  # 8\n",
    "\n",
    "#실습 코드\n",
    "print(\"------------------------------------\")\n",
    "print(\"실습 코드\")\n",
    "print(Utility.add(10,2))"
   ]
  },
  {
   "cell_type": "code",
   "execution_count": 41,
   "id": "8c543c72-7f46-42fa-87dd-f2890c286fc1",
   "metadata": {},
   "outputs": [
    {
     "name": "stdout",
     "output_type": "stream",
     "text": [
      "부모의 생성자입니다.\n",
      "Buddy가 멍멍 짖습니다.\n",
      "------------------------------------\n",
      "실습 코드\n",
      "동물이네요\n",
      "None\n"
     ]
    }
   ],
   "source": [
    "#실습 - 상속(Inheritance)\n",
    "class Animal:\n",
    "    def __init__(self, name):\n",
    "        print(\"부모의 생성자입니다.\")\n",
    "        self.name = name\n",
    "\n",
    "    def speak(self):\n",
    "        return \"소리를 냅니다.\"\n",
    "\n",
    "    def test(self):\n",
    "        print(\"동물이네요\")\n",
    "        \n",
    "class Dog(Animal):  # Animal 클래스를 상속받아 Dog 클래스 \n",
    "    def __init__(self, name, age):\n",
    "        super().__init__(name)\n",
    "        self.age = age\n",
    "    def speak(self):  # 부모 클래스의 메서드를 재정의 (오버라이딩)\n",
    "        return f\"{self.name}가 멍멍 짖습니다.\"\n",
    "\n",
    "# 객체 생성\n",
    "dog = Dog(\"Buddy\", 32)\n",
    "print(dog.speak())  # Buddy가 멍멍 짖습니다.\n",
    "\n",
    "print(\"------------------------------------\")\n",
    "print(\"실습 코드\")\n",
    "print(dog.test())"
   ]
  },
  {
   "cell_type": "code",
   "execution_count": 42,
   "id": "7ba1d9e0-e9e6-4a08-90c2-300a835c6713",
   "metadata": {},
   "outputs": [],
   "source": [
    "#상속 실습\n",
    "from abc import ABC, abstractmethod\n",
    "\n",
    "class Animal(ABC):\n",
    "    @abstractmethod\n",
    "    def sound(self):\n",
    "        pass"
   ]
  },
  {
   "cell_type": "code",
   "execution_count": 44,
   "id": "5f40cdfd-0277-4b65-b6a5-f5035de8389e",
   "metadata": {},
   "outputs": [],
   "source": [
    "class Dog(Animal):\n",
    "    def __init__(self, name):\n",
    "        self.name = name\n",
    "\n",
    "    def sound(self):\n",
    "        print(\"이름 멍멍\")"
   ]
  },
  {
   "cell_type": "code",
   "execution_count": 45,
   "id": "bdb26316-15cd-42c9-99d8-bd2fab157d26",
   "metadata": {},
   "outputs": [],
   "source": [
    "a = Dog(\"bob\")"
   ]
  },
  {
   "cell_type": "code",
   "execution_count": null,
   "id": "e27602e1-27ab-4641-992e-4e2fa1271af2",
   "metadata": {},
   "outputs": [],
   "source": []
  },
  {
   "cell_type": "markdown",
   "id": "a4452e84-2faf-4dce-b693-02422e1b06c2",
   "metadata": {},
   "source": [
    "# 파일 다루기"
   ]
  },
  {
   "cell_type": "code",
   "execution_count": 46,
   "id": "2134c7f6-21ad-4652-8f8a-9abcfe5cec13",
   "metadata": {},
   "outputs": [
    {
     "name": "stdout",
     "output_type": "stream",
     "text": [
      "파일을 찾을 수 없습니다.\n"
     ]
    }
   ],
   "source": [
    "try:\n",
    "    with open(\"example.txt\", \"r\") as file:\n",
    "        content = file.read()\n",
    "except FileNotFoundError:\n",
    "    print(\"파일을 찾을 수 없습니다.\")\n",
    "except IOError:\n",
    "    print(\"파일을 읽는 중 오류가 발생했습니다.\")\n"
   ]
  },
  {
   "cell_type": "code",
   "execution_count": null,
   "id": "64fbb54a-9053-4c8d-92b9-47d2be7b129d",
   "metadata": {},
   "outputs": [],
   "source": []
  },
  {
   "cell_type": "markdown",
   "id": "9abd5586-d49f-46a0-8e00-d0f90afb1517",
   "metadata": {},
   "source": [
    " # 이터레이터와 반복 가능한 객체, 제너레이터와 yield"
   ]
  },
  {
   "cell_type": "code",
   "execution_count": 51,
   "id": "4f2a49b4-8062-4717-90e1-c3c49fe527f7",
   "metadata": {},
   "outputs": [
    {
     "name": "stdout",
     "output_type": "stream",
     "text": [
      "1\n",
      "2\n",
      "3\n",
      "4\n",
      "5\n"
     ]
    }
   ],
   "source": [
    "numbers = [1, 2, 3, 4, 5]\n",
    "\n",
    "iterator = iter(numbers)\n",
    "\n",
    "print(next(iterator))\n",
    "print(next(iterator))\n",
    "print(next(iterator))\n",
    "print(next(iterator))\n",
    "print(next(iterator))"
   ]
  },
  {
   "cell_type": "code",
   "execution_count": 57,
   "id": "83f0972b-d308-4e02-8e24-7efd35bf3040",
   "metadata": {},
   "outputs": [
    {
     "name": "stdout",
     "output_type": "stream",
     "text": [
      "1\n",
      "2\n",
      "3\n"
     ]
    }
   ],
   "source": [
    "#이터레이터 구현 예시\n",
    "class MyIterator:\n",
    "    def __init__(self, data):\n",
    "        self.data = data\n",
    "        self.index = 0\n",
    "\n",
    "    def __iter__(self):\n",
    "        return self\n",
    "\n",
    "    def __next__(self):\n",
    "        if self.index < len(self.data):\n",
    "            result = self.data[self.index]\n",
    "            self.index += 1\n",
    "            return result\n",
    "        else:\n",
    "            raise StopIteration\n",
    "\n",
    "# 이터레이터 사용\n",
    "my_iter = MyIterator([1, 2, 3])\n",
    "for item in my_iter:\n",
    "    print(item)\n"
   ]
  },
  {
   "cell_type": "code",
   "execution_count": 58,
   "id": "7b5497f0-68d3-4f84-ba88-df715f361266",
   "metadata": {},
   "outputs": [],
   "source": []
  },
  {
   "cell_type": "code",
   "execution_count": 61,
   "id": "02030bdf-3c7d-4900-8ea1-b9ec52d998d2",
   "metadata": {},
   "outputs": [
    {
     "name": "stdout",
     "output_type": "stream",
     "text": [
      "1\n",
      "2\n",
      "3\n"
     ]
    }
   ],
   "source": [
    "#제너레이터\n",
    "\n",
    "def simple_generator():\n",
    "    yield 1\n",
    "    yield 2\n",
    "    yield 3\n",
    "\n",
    "gen = simple_generator()\n",
    "\n",
    "print(next(gen))  # 1\n",
    "print(next(gen))  # 2\n",
    "print(next(gen))  # 3\n"
   ]
  },
  {
   "cell_type": "code",
   "execution_count": 66,
   "id": "8d1fd28a-9a88-411a-89d1-bbc9dd979000",
   "metadata": {},
   "outputs": [
    {
     "name": "stdout",
     "output_type": "stream",
     "text": [
      "0\n",
      "1\n",
      "1\n",
      "2\n",
      "3\n",
      "5\n",
      "8\n",
      "13\n",
      "21\n",
      "34\n"
     ]
    }
   ],
   "source": [
    "#실습\n",
    "def fibonacci(n):\n",
    "    a, b = 0, 1\n",
    "    for _ in range(n):\n",
    "        yield a\n",
    "        a, b = b, a + b\n",
    "\n",
    "# 피보나치 수열 생성\n",
    "for num in fibonacci(10):\n",
    "    print(num)\n"
   ]
  },
  {
   "cell_type": "code",
   "execution_count": 67,
   "id": "3cd0c8b5-3191-4a28-a4ec-ee2120994db7",
   "metadata": {},
   "outputs": [
    {
     "name": "stdout",
     "output_type": "stream",
     "text": [
      "0\n",
      "1\n",
      "4\n",
      "9\n",
      "16\n"
     ]
    }
   ],
   "source": [
    "#제너레이터 표현식\n",
    "gen_exp = (x * x for x in range(5))\n",
    "\n",
    "for num in gen_exp:\n",
    "    print(num)"
   ]
  },
  {
   "cell_type": "code",
   "execution_count": null,
   "id": "3f46fb6e-16f3-4cda-b5c8-d4139665fed6",
   "metadata": {},
   "outputs": [],
   "source": []
  },
  {
   "cell_type": "markdown",
   "id": "6b4588ff-2b8e-42e3-b363-6c3d005cfe6f",
   "metadata": {},
   "source": [
    "# 데코레이터와 with 구문(컨텍스트 매니저) 살펴보기"
   ]
  },
  {
   "cell_type": "code",
   "execution_count": 68,
   "id": "17edc227-7205-4e31-bc1e-00c5da3764f7",
   "metadata": {},
   "outputs": [],
   "source": [
    "def decorator_function(original_function):\n",
    "    def wrapper_function(*args, **kwargs):\n",
    "        # 추가할 기능\n",
    "        print(\"추가 기능 실행 전\")\n",
    "        result = original_function(*args, **kwargs)\n",
    "        print(\"추가 기능 실행 후\")\n",
    "        return result\n",
    "    return wrapper_function\n"
   ]
  },
  {
   "cell_type": "code",
   "execution_count": 72,
   "id": "d68b498f-df0c-43aa-81d1-0c2322997568",
   "metadata": {},
   "outputs": [
    {
     "name": "stdout",
     "output_type": "stream",
     "text": [
      "원래 함수 실헹\n"
     ]
    }
   ],
   "source": [
    "def display():\n",
    "    print(\"원래 함수 실헹\")\n",
    "\n",
    "#함수 호출\n",
    "display()\n",
    "\n",
    "@decorator_function\n",
    "def display():\n",
    "    print(\"원래 함수\")"
   ]
  },
  {
   "cell_type": "code",
   "execution_count": 73,
   "id": "e3c49d3c-5c99-4601-9b31-905ef308a44c",
   "metadata": {},
   "outputs": [
    {
     "name": "stdout",
     "output_type": "stream",
     "text": [
      "추가 기능 실행 전\n",
      "원래 함수\n",
      "추가 기능 실행 후\n"
     ]
    }
   ],
   "source": [
    "#함수 호출\n",
    "display()"
   ]
  },
  {
   "cell_type": "code",
   "execution_count": null,
   "id": "9b785736-55d0-40f4-865a-8b5b9dae3c7c",
   "metadata": {},
   "outputs": [],
   "source": []
  }
 ],
 "metadata": {
  "kernelspec": {
   "display_name": "Python self_studies",
   "language": "python",
   "name": "self_studies"
  },
  "language_info": {
   "codemirror_mode": {
    "name": "ipython",
    "version": 3
   },
   "file_extension": ".py",
   "mimetype": "text/x-python",
   "name": "python",
   "nbconvert_exporter": "python",
   "pygments_lexer": "ipython3",
   "version": "3.11.10"
  }
 },
 "nbformat": 4,
 "nbformat_minor": 5
}
