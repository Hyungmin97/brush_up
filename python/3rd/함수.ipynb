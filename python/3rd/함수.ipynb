{
 "cells": [
  {
   "cell_type": "markdown",
   "id": "05795866-4652-422f-a32f-939e636f9b78",
   "metadata": {},
   "source": [
    "# 함수"
   ]
  },
  {
   "cell_type": "code",
   "execution_count": 8,
   "id": "32d0516d-7080-4a6c-9e31-6653b1786c9a",
   "metadata": {},
   "outputs": [
    {
     "name": "stdout",
     "output_type": "stream",
     "text": [
      "[2, 3, 5, 6, 8]\n",
      "[8, 6, 5, 3, 2]\n"
     ]
    }
   ],
   "source": [
    "#sorted()함수 - 정렬하기\n",
    "numbers = [5,3,8,6,2] \n",
    "sorted_numbers = sorted(numbers)\n",
    "\n",
    "print(sorted_numbers)\n",
    "print(sorted(numbers, reverse = True))"
   ]
  },
  {
   "cell_type": "code",
   "execution_count": 9,
   "id": "acdc6981-9e90-411f-81e8-d211211cdb7d",
   "metadata": {},
   "outputs": [
    {
     "name": "stdout",
     "output_type": "stream",
     "text": [
      "10\n"
     ]
    }
   ],
   "source": [
    "#abs()함수 -절대값\n",
    "num = -10\n",
    "print(abs(num))"
   ]
  },
  {
   "cell_type": "code",
   "execution_count": 10,
   "id": "8c99b19f-9173-4a1c-9460-3280f6be862e",
   "metadata": {},
   "outputs": [
    {
     "name": "stdout",
     "output_type": "stream",
     "text": [
      "3.14\n"
     ]
    }
   ],
   "source": [
    "#round()함수\n",
    "pi = 3.141592\n",
    "print(round(pi, 2)) # 2번째 자리까지 반올림"
   ]
  },
  {
   "cell_type": "code",
   "execution_count": null,
   "id": "c21aff0d-b2df-4ba1-b079-dd984cfa7eb7",
   "metadata": {},
   "outputs": [],
   "source": []
  },
  {
   "cell_type": "markdown",
   "id": "66876fa1-397f-4c78-9c50-c3f1375e6f8a",
   "metadata": {},
   "source": [
    "# 함수 만들기"
   ]
  },
  {
   "cell_type": "code",
   "execution_count": 11,
   "id": "4de4d05a-0cfd-423c-9048-b092a34a2775",
   "metadata": {},
   "outputs": [],
   "source": [
    "def greet(name): #name: 매개변수\n",
    "    return f\"안녕하세요 {name}님!\""
   ]
  },
  {
   "cell_type": "code",
   "execution_count": 16,
   "id": "89dc5257-9b73-45ff-b088-d8138bd181de",
   "metadata": {},
   "outputs": [
    {
     "data": {
      "text/plain": [
       "'안녕하세요 이형민님!'"
      ]
     },
     "execution_count": 16,
     "metadata": {},
     "output_type": "execute_result"
    }
   ],
   "source": [
    "greet(\"이형민\")"
   ]
  },
  {
   "cell_type": "code",
   "execution_count": 17,
   "id": "9a6bfdae-5445-4610-a328-d61ad4493c9f",
   "metadata": {},
   "outputs": [
    {
     "name": "stdout",
     "output_type": "stream",
     "text": [
      "안녕하세요 이형민님!\n"
     ]
    }
   ],
   "source": [
    "message = greet(\"이형민\")\n",
    "print(message)"
   ]
  },
  {
   "cell_type": "code",
   "execution_count": null,
   "id": "78c6a911-1cb6-471c-99c8-b932b8dc2349",
   "metadata": {},
   "outputs": [],
   "source": []
  },
  {
   "cell_type": "code",
   "execution_count": 23,
   "id": "02c1fc1e-f41e-4ca7-a568-2b57fafc9ebf",
   "metadata": {},
   "outputs": [],
   "source": [
    "#실습\n",
    "def introduce():\n",
    "    first_name = input(\"이름을 입력하세요.\")\n",
    "    last_name = input(\"성을 입력하세요.\")\n",
    "    return f\"반갑습니다. {last_name} {first_name}님\"\n",
    "    "
   ]
  },
  {
   "cell_type": "code",
   "execution_count": 24,
   "id": "44c19a9a-3ad4-4ce5-95f3-57f6b9c282da",
   "metadata": {},
   "outputs": [
    {
     "name": "stdin",
     "output_type": "stream",
     "text": [
      "이름을 입력하세요. 형민\n",
      "성을 입력하세요. 이\n"
     ]
    },
    {
     "name": "stdout",
     "output_type": "stream",
     "text": [
      "반갑습니다. 이 형민님\n"
     ]
    }
   ],
   "source": [
    "print(introduce())"
   ]
  },
  {
   "cell_type": "code",
   "execution_count": null,
   "id": "1e3a824e-3340-4b6a-ba2a-49bdaf28530a",
   "metadata": {},
   "outputs": [],
   "source": []
  },
  {
   "cell_type": "code",
   "execution_count": 34,
   "id": "050c9b34-1123-4162-a542-5695484252e1",
   "metadata": {},
   "outputs": [],
   "source": [
    "#실습\n",
    "def introduce2(first_name, last_name):\n",
    "    return f\"반갑습니다. {last_name} {first_name}님\""
   ]
  },
  {
   "cell_type": "code",
   "execution_count": 35,
   "id": "528a9a28-504c-4bad-954a-ab50acf92d4a",
   "metadata": {},
   "outputs": [
    {
     "data": {
      "text/plain": [
       "'반갑습니다. 이 형민님'"
      ]
     },
     "execution_count": 35,
     "metadata": {},
     "output_type": "execute_result"
    }
   ],
   "source": [
    "introduce2(\"형민\", \"이\")"
   ]
  },
  {
   "cell_type": "code",
   "execution_count": null,
   "id": "3f935759-3240-4c00-a6c4-454433018e0c",
   "metadata": {},
   "outputs": [],
   "source": []
  },
  {
   "cell_type": "code",
   "execution_count": 36,
   "id": "3f13a395-798f-40c4-a9e3-de77698b9e67",
   "metadata": {},
   "outputs": [],
   "source": [
    "#실습\n",
    "def test(name = \"홍길동\"): #기본값 설정\n",
    "    return f\"안녕하세요 {name}님\""
   ]
  },
  {
   "cell_type": "code",
   "execution_count": 39,
   "id": "9b4070a9-8d5c-4cc9-877d-85642b1145be",
   "metadata": {},
   "outputs": [
    {
     "name": "stdout",
     "output_type": "stream",
     "text": [
      "안녕하세요 이형민님\n"
     ]
    }
   ],
   "source": [
    "#매개변수 입력 시,\n",
    "print(test(\"이형민\"))"
   ]
  },
  {
   "cell_type": "code",
   "execution_count": 40,
   "id": "f7faf9d5-0119-4fb7-804c-83feae9f4d76",
   "metadata": {},
   "outputs": [
    {
     "name": "stdout",
     "output_type": "stream",
     "text": [
      "안녕하세요 홍길동님\n"
     ]
    }
   ],
   "source": [
    "#매개변수 미입력 시, -> 기본값 설정\n",
    "print(test())"
   ]
  },
  {
   "cell_type": "code",
   "execution_count": null,
   "id": "d3b75e4f-37ee-4ef5-a2a4-2f41be8a9043",
   "metadata": {},
   "outputs": [],
   "source": []
  },
  {
   "cell_type": "code",
   "execution_count": 41,
   "id": "de98d8e7-9a05-44a3-a897-928faf2746b6",
   "metadata": {},
   "outputs": [],
   "source": [
    "#실습\n",
    "def test(age, name = \"홍길동\"): #기본값 설정\n",
    "    return f\"안녕하세요 {name}님 {age}살 이시군요\""
   ]
  },
  {
   "cell_type": "code",
   "execution_count": 43,
   "id": "77506ef6-13ad-42aa-a8fd-1e5130bb05ac",
   "metadata": {},
   "outputs": [
    {
     "name": "stdout",
     "output_type": "stream",
     "text": [
      "안녕하세요 홍길동님 13살 이시군요\n"
     ]
    }
   ],
   "source": [
    "print(test(13))"
   ]
  },
  {
   "cell_type": "code",
   "execution_count": 45,
   "id": "39fb97e8-d1ac-49c7-ae1c-b8878f87cac5",
   "metadata": {},
   "outputs": [
    {
     "name": "stdout",
     "output_type": "stream",
     "text": [
      "안녕하세요 이형민님 28살 이시군요\n"
     ]
    }
   ],
   "source": [
    "print(test(28, \"이형민\"))"
   ]
  },
  {
   "cell_type": "code",
   "execution_count": 46,
   "id": "d280d8bd-fffe-4623-ad28-2fd03ce39386",
   "metadata": {},
   "outputs": [
    {
     "name": "stdout",
     "output_type": "stream",
     "text": [
      "안녕하세요 홍길동님 이형민살 이시군요\n"
     ]
    }
   ],
   "source": [
    "print(test(\"이형민\"))\n",
    "\n",
    "#기본값이 있는 매개변수는 항상 기본값이 없는 매개변수 뒤에 와야함."
   ]
  },
  {
   "cell_type": "code",
   "execution_count": null,
   "id": "08eab2fd-1ce9-45fe-955c-0eb0110060ed",
   "metadata": {},
   "outputs": [],
   "source": []
  },
  {
   "cell_type": "code",
   "execution_count": 47,
   "id": "884973da-5712-4583-90fe-293e0247497b",
   "metadata": {},
   "outputs": [],
   "source": [
    "#args: 임의의 위치 인수 받기\n",
    "#args는 위치 인수의 튜플을 받음.\n",
    "#인수의 개수가 정해지지 않았을 때 유용"
   ]
  },
  {
   "cell_type": "code",
   "execution_count": 50,
   "id": "03812816-126a-499a-a3a1-082496581f7b",
   "metadata": {},
   "outputs": [],
   "source": [
    "def test_add(*args):\n",
    "    print(args)\n",
    "    return True"
   ]
  },
  {
   "cell_type": "code",
   "execution_count": 51,
   "id": "323dfd12-fd1f-44e4-9a61-65d2bed61f2f",
   "metadata": {},
   "outputs": [
    {
     "name": "stdout",
     "output_type": "stream",
     "text": [
      "(1, 2, 3)\n"
     ]
    },
    {
     "data": {
      "text/plain": [
       "True"
      ]
     },
     "execution_count": 51,
     "metadata": {},
     "output_type": "execute_result"
    }
   ],
   "source": [
    "test_add(1,2,3)"
   ]
  },
  {
   "cell_type": "code",
   "execution_count": null,
   "id": "33a4fd8b-091c-4a5a-af5c-7487ffe77149",
   "metadata": {},
   "outputs": [],
   "source": []
  },
  {
   "cell_type": "code",
   "execution_count": 48,
   "id": "5e354f1f-4518-499f-99e7-0c98f660327e",
   "metadata": {},
   "outputs": [
    {
     "name": "stdout",
     "output_type": "stream",
     "text": [
      "6\n",
      "100\n"
     ]
    }
   ],
   "source": [
    "def add (*args):\n",
    "    return sum(args)\n",
    "\n",
    "print(add(1,2,3))\n",
    "print(add(10,20,30,40))"
   ]
  },
  {
   "cell_type": "code",
   "execution_count": null,
   "id": "0dc19c0b-aaa5-4b31-83f3-6069aad3d6e7",
   "metadata": {},
   "outputs": [],
   "source": []
  },
  {
   "cell_type": "code",
   "execution_count": 52,
   "id": "d3a45170-167f-4909-b4cd-22d96450ef2f",
   "metadata": {},
   "outputs": [],
   "source": [
    "# *kwargs: 임의의 키워드 인수 받기\n",
    "# *kwargs는 키워드 인수의 딕셔너리를 받음. 함수에 전달되는 인수의 이름과 값을 딕셔너리 형태로 처리"
   ]
  },
  {
   "cell_type": "code",
   "execution_count": 53,
   "id": "6d97fe9f-4c4d-4829-bda1-24d21f0c6387",
   "metadata": {},
   "outputs": [
    {
     "name": "stdout",
     "output_type": "stream",
     "text": [
      "name: 이형민\n",
      "age: 28\n",
      "city: Seoul\n"
     ]
    }
   ],
   "source": [
    "def print_info(**kwargs):\n",
    "    for key, value in kwargs.items():\n",
    "        print(f\"{key}: {value}\")\n",
    "\n",
    "print_info(name=\"이형민\", age=28, city=\"Seoul\")"
   ]
  },
  {
   "cell_type": "code",
   "execution_count": null,
   "id": "136c4abf-0adc-47eb-87a0-475b1d7d832e",
   "metadata": {},
   "outputs": [],
   "source": []
  },
  {
   "cell_type": "code",
   "execution_count": 59,
   "id": "05f010c9-9c55-4cc8-a296-4936d76f57e5",
   "metadata": {},
   "outputs": [],
   "source": [
    "def test_greet(**kwargs):\n",
    "    print(kwargs)\n",
    "    return True"
   ]
  },
  {
   "cell_type": "code",
   "execution_count": 61,
   "id": "6ec627a3-4b67-4612-b493-9077d68c73c8",
   "metadata": {},
   "outputs": [
    {
     "name": "stdout",
     "output_type": "stream",
     "text": [
      "{'이름': '이형민', '나이': 28, '거주지': '서울'}\n"
     ]
    },
    {
     "data": {
      "text/plain": [
       "True"
      ]
     },
     "execution_count": 61,
     "metadata": {},
     "output_type": "execute_result"
    }
   ],
   "source": [
    "test_greet(이름=\"이형민\", 나이=28, 거주지=\"서울\")"
   ]
  },
  {
   "cell_type": "code",
   "execution_count": null,
   "id": "87a97eb5-a890-4d83-8e59-0b71a1561621",
   "metadata": {},
   "outputs": [],
   "source": []
  },
  {
   "cell_type": "code",
   "execution_count": 62,
   "id": "326ae015-c233-4f0e-ba9d-6b6aa0f7401e",
   "metadata": {},
   "outputs": [],
   "source": [
    "#args와 *kwargs 함께 사용 예시"
   ]
  },
  {
   "cell_type": "code",
   "execution_count": 63,
   "id": "7daaca86-4bde-40b2-abfe-39be3e56a9dc",
   "metadata": {},
   "outputs": [
    {
     "name": "stdout",
     "output_type": "stream",
     "text": [
      "a: 1, b: 2\n",
      "args: (3, 4, 5)\n",
      "kwargs: {'key1': 'value1', 'key2': 'value2'}\n"
     ]
    }
   ],
   "source": [
    "def mix_parameters(a, b, *args, **kwargs):\n",
    "    print(f\"a: {a}, b: {b}\")\n",
    "    print(\"args:\", args)\n",
    "    print(\"kwargs:\", kwargs)\n",
    "\n",
    "mix_parameters(1, 2, 3, 4, 5, key1=\"value1\", key2=\"value2\")"
   ]
  },
  {
   "cell_type": "code",
   "execution_count": null,
   "id": "a88a7025-19e2-4f3b-8445-e38cbb951289",
   "metadata": {},
   "outputs": [],
   "source": []
  },
  {
   "cell_type": "markdown",
   "id": "58855f34-aa4f-4bbd-b3a1-cc77ffe07d6c",
   "metadata": {},
   "source": [
    "# 예외 처리: try, except, finally"
   ]
  },
  {
   "cell_type": "code",
   "execution_count": 64,
   "id": "7dbcba1c-8e05-4431-905e-e100ddfd0a67",
   "metadata": {},
   "outputs": [
    {
     "name": "stdout",
     "output_type": "stream",
     "text": [
      "test before\n",
      "0으로 나눴습니다.\n"
     ]
    }
   ],
   "source": [
    "#실습\n",
    "try:\n",
    "    print(\"test before\")\n",
    "    print(10/0)\n",
    "    print(\"test after\")\n",
    "except:\n",
    "    print(\"0으로 나눴습니다.\")"
   ]
  },
  {
   "cell_type": "code",
   "execution_count": 65,
   "id": "234a2294-959a-41cc-b1a3-456a12584a8c",
   "metadata": {},
   "outputs": [
    {
     "name": "stdout",
     "output_type": "stream",
     "text": [
      "test before\n",
      "파일을 찾을 수 없습니다.\n"
     ]
    }
   ],
   "source": [
    "#실습\n",
    "try:\n",
    "    print(\"test before\")\n",
    "    open(\"cola.txt\")\n",
    "    print(\"test after\")\n",
    "except ZeroDivisionError:\n",
    "    print(\"0으로 나눴습니다.\")\n",
    "except FileNotFoundError:\n",
    "    print(\"파일을 찾을 수 없습니다.\")"
   ]
  },
  {
   "cell_type": "code",
   "execution_count": null,
   "id": "35553367-079b-477e-b75f-46225eef5ece",
   "metadata": {},
   "outputs": [],
   "source": []
  },
  {
   "cell_type": "code",
   "execution_count": 66,
   "id": "38a85a17-9170-484f-b529-aec1532d7a88",
   "metadata": {},
   "outputs": [
    {
     "name": "stdout",
     "output_type": "stream",
     "text": [
      "test before\n",
      "파일을 찾을 수 없습니다.\n",
      "Finally\n"
     ]
    }
   ],
   "source": [
    "#finally\n",
    "#실습\n",
    "try:\n",
    "    print(\"test before\")\n",
    "    open(\"cola.txt\")\n",
    "    print(\"test after\")\n",
    "except ZeroDivisionError:\n",
    "    print(\"0으로 나눴습니다.\")\n",
    "except FileNotFoundError:\n",
    "    print(\"파일을 찾을 수 없습니다.\")\n",
    "finally:\n",
    "    print(\"Finally\")"
   ]
  },
  {
   "cell_type": "code",
   "execution_count": 67,
   "id": "e00db224-471d-46b8-ace1-809db6884317",
   "metadata": {},
   "outputs": [
    {
     "name": "stdout",
     "output_type": "stream",
     "text": [
      "test_before\n",
      "모든에러 name 'no_exist' is not defined\n"
     ]
    }
   ],
   "source": [
    "try:\n",
    "    print(\"test_before\")\n",
    "    print(no_exist)\n",
    "except Exception as e:\n",
    "    print(f\"모든에러 {e}\")"
   ]
  },
  {
   "cell_type": "code",
   "execution_count": null,
   "id": "065e609c-cdee-4c68-931e-b71d732a6c66",
   "metadata": {},
   "outputs": [],
   "source": []
  }
 ],
 "metadata": {
  "kernelspec": {
   "display_name": "Python self_studies",
   "language": "python",
   "name": "self_studies"
  },
  "language_info": {
   "codemirror_mode": {
    "name": "ipython",
    "version": 3
   },
   "file_extension": ".py",
   "mimetype": "text/x-python",
   "name": "python",
   "nbconvert_exporter": "python",
   "pygments_lexer": "ipython3",
   "version": "3.11.10"
  }
 },
 "nbformat": 4,
 "nbformat_minor": 5
}
