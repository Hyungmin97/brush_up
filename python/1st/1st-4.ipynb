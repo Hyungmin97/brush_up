{
 "cells": [
  {
   "cell_type": "markdown",
   "id": "beecd61e-1678-4c62-9500-a76dcb9c9e26",
   "metadata": {},
   "source": [
    "# 데이터 타입 알아보기: 숫자형, 문자형, 불리언"
   ]
  },
  {
   "cell_type": "code",
   "execution_count": 2,
   "id": "f29ef9c6-15b1-4497-adba-260794efb9f1",
   "metadata": {},
   "outputs": [],
   "source": [
    "#정수형(int): 소수점 없이 정수를 나타내는 데이터 타입\n",
    "#실수형(float): 소수점을 포함한 숫자를 나타내는 데이터 타입"
   ]
  },
  {
   "cell_type": "code",
   "execution_count": 6,
   "id": "c7cba82f-486f-45c1-bf57-97afecf7b58c",
   "metadata": {},
   "outputs": [
    {
     "data": {
      "text/plain": [
       "13.1"
      ]
     },
     "execution_count": 6,
     "metadata": {},
     "output_type": "execute_result"
    }
   ],
   "source": [
    "#정수 + 실수\n",
    "3 + 10.1 # -> 실수로 변함"
   ]
  },
  {
   "cell_type": "code",
   "execution_count": null,
   "id": "e8cbef15-20f0-4853-aeb1-ce4b6891b116",
   "metadata": {},
   "outputs": [],
   "source": [
    "#불리언\n",
    "#참: 1\n",
    "#거짓: 0"
   ]
  }
 ],
 "metadata": {
  "kernelspec": {
   "display_name": "python_study",
   "language": "python",
   "name": "python_study"
  },
  "language_info": {
   "codemirror_mode": {
    "name": "ipython",
    "version": 3
   },
   "file_extension": ".py",
   "mimetype": "text/x-python",
   "name": "python",
   "nbconvert_exporter": "python",
   "pygments_lexer": "ipython3",
   "version": "3.12.7"
  }
 },
 "nbformat": 4,
 "nbformat_minor": 5
}
