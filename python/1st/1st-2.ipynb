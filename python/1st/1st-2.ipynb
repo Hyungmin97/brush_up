{
 "cells": [
  {
   "cell_type": "markdown",
   "id": "71873bc9-bc60-4ae2-b2cd-af6da9a5a4e2",
   "metadata": {},
   "source": [
    "# 데이터 저장의 기본: 변수의 선언과 할당"
   ]
  },
  {
   "cell_type": "code",
   "execution_count": 2,
   "id": "8452bc32-fd86-4984-9693-3e0ccbf0f50d",
   "metadata": {},
   "outputs": [],
   "source": [
    "#변수 선언\n",
    "name = \"Hyungmin\"\n",
    "age = 28"
   ]
  },
  {
   "cell_type": "code",
   "execution_count": 6,
   "id": "cd84be31-f946-4f71-8f87-895eadc1ce38",
   "metadata": {},
   "outputs": [
    {
     "name": "stdout",
     "output_type": "stream",
     "text": [
      "Hyungmin의 나이는 28 입니다.\n"
     ]
    }
   ],
   "source": [
    "#출력 예시\n",
    "print(f\"{name}의 나이는 {age} 입니다.\")"
   ]
  },
  {
   "cell_type": "code",
   "execution_count": 8,
   "id": "864e0195-0fd8-4ca8-81b7-007bbc7ade43",
   "metadata": {},
   "outputs": [],
   "source": [
    "#변수 선언\n",
    "a = 10\n",
    "b = 20"
   ]
  },
  {
   "cell_type": "code",
   "execution_count": 14,
   "id": "4036972d-5fd6-48bd-89c8-5a3299713ad0",
   "metadata": {},
   "outputs": [
    {
     "data": {
      "text/plain": [
       "30"
      ]
     },
     "execution_count": 14,
     "metadata": {},
     "output_type": "execute_result"
    }
   ],
   "source": [
    "#덧셈 예시\n",
    "a + b"
   ]
  },
  {
   "cell_type": "code",
   "execution_count": 22,
   "id": "ab614a9c-ab0c-4760-bb97-99b5bca9bf82",
   "metadata": {},
   "outputs": [
    {
     "data": {
      "text/plain": [
       "False"
      ]
     },
     "execution_count": 22,
     "metadata": {},
     "output_type": "execute_result"
    }
   ],
   "source": [
    "# == : \"같다\"\n",
    "a == b"
   ]
  },
  {
   "cell_type": "code",
   "execution_count": 24,
   "id": "f9346612-20bb-4fc5-bfb4-63f3badc8ca0",
   "metadata": {},
   "outputs": [
    {
     "name": "stdout",
     "output_type": "stream",
     "text": [
      "Hello, World!\n"
     ]
    }
   ],
   "source": [
    "#예시\n",
    "greeting = \"Hello, World!\"\n",
    "print(greeting)"
   ]
  },
  {
   "cell_type": "code",
   "execution_count": 34,
   "id": "191345d1-a9b9-41e6-812c-61e8beac5bd2",
   "metadata": {},
   "outputs": [],
   "source": [
    "#예시\n",
    "a,b,c = 10,20,30"
   ]
  },
  {
   "cell_type": "code",
   "execution_count": 36,
   "id": "96ed22c3-a81b-4434-ae30-93ef5134d869",
   "metadata": {},
   "outputs": [
    {
     "data": {
      "text/plain": [
       "10"
      ]
     },
     "execution_count": 36,
     "metadata": {},
     "output_type": "execute_result"
    }
   ],
   "source": [
    "#출력1\n",
    "a"
   ]
  },
  {
   "cell_type": "code",
   "execution_count": 38,
   "id": "fe88b043-5dc9-4c6b-bf0a-078e0c940964",
   "metadata": {},
   "outputs": [
    {
     "data": {
      "text/plain": [
       "20"
      ]
     },
     "execution_count": 38,
     "metadata": {},
     "output_type": "execute_result"
    }
   ],
   "source": [
    "#출력2\n",
    "b"
   ]
  },
  {
   "cell_type": "code",
   "execution_count": 40,
   "id": "01cba67e-b506-41f9-ade8-f8df2f069a26",
   "metadata": {},
   "outputs": [
    {
     "data": {
      "text/plain": [
       "30"
      ]
     },
     "execution_count": 40,
     "metadata": {},
     "output_type": "execute_result"
    }
   ],
   "source": [
    "#출력3\n",
    "c"
   ]
  },
  {
   "cell_type": "code",
   "execution_count": 42,
   "id": "159e4cd4-0cbe-4118-bad5-cd87aef278ce",
   "metadata": {},
   "outputs": [],
   "source": [
    "#예시\n",
    "d = e = f = 100"
   ]
  },
  {
   "cell_type": "code",
   "execution_count": 44,
   "id": "a2965853-ee5c-4fa8-97c4-0b806b31b941",
   "metadata": {},
   "outputs": [
    {
     "data": {
      "text/plain": [
       "100"
      ]
     },
     "execution_count": 44,
     "metadata": {},
     "output_type": "execute_result"
    }
   ],
   "source": [
    "#출력1\n",
    "d"
   ]
  },
  {
   "cell_type": "code",
   "execution_count": 46,
   "id": "501c247c-a022-447f-917a-6b9358b1a044",
   "metadata": {},
   "outputs": [
    {
     "data": {
      "text/plain": [
       "100"
      ]
     },
     "execution_count": 46,
     "metadata": {},
     "output_type": "execute_result"
    }
   ],
   "source": [
    "#출력2\n",
    "e"
   ]
  },
  {
   "cell_type": "code",
   "execution_count": 48,
   "id": "940c485e-6ac2-4880-bf36-2c79070a6dea",
   "metadata": {},
   "outputs": [
    {
     "data": {
      "text/plain": [
       "100"
      ]
     },
     "execution_count": 48,
     "metadata": {},
     "output_type": "execute_result"
    }
   ],
   "source": [
    "#출력3\n",
    "f"
   ]
  },
  {
   "cell_type": "code",
   "execution_count": 52,
   "id": "e1de2942-aea3-4451-aae3-4cd2335f3ad4",
   "metadata": {},
   "outputs": [
    {
     "name": "stdin",
     "output_type": "stream",
     "text": [
      "이름을 입력하세요. 이형민\n"
     ]
    },
    {
     "name": "stdout",
     "output_type": "stream",
     "text": [
      "이형민\n"
     ]
    }
   ],
   "source": [
    "#간단한 프로그램\n",
    "name = input(\"이름을 입력하세요.\")\n",
    "print(name)"
   ]
  },
  {
   "cell_type": "code",
   "execution_count": 54,
   "id": "970bbfda-1e3c-4bd7-9459-08ceecab82a9",
   "metadata": {},
   "outputs": [],
   "source": [
    "#예시\n",
    "a = 2 **123456\n",
    "b = 3.14"
   ]
  },
  {
   "cell_type": "code",
   "execution_count": 58,
   "id": "d46bff58-715c-4a83-8940-7999d67db372",
   "metadata": {},
   "outputs": [
    {
     "ename": "OverflowError",
     "evalue": "int too large to convert to float",
     "output_type": "error",
     "traceback": [
      "\u001b[1;31m---------------------------------------------------------------------------\u001b[0m",
      "\u001b[1;31mOverflowError\u001b[0m                             Traceback (most recent call last)",
      "Cell \u001b[1;32mIn[58], line 1\u001b[0m\n\u001b[1;32m----> 1\u001b[0m a \u001b[38;5;241m/\u001b[39m b\n",
      "\u001b[1;31mOverflowError\u001b[0m: int too large to convert to float"
     ]
    }
   ],
   "source": [
    "a / b #메모리 크기로 인한 오류 -> 숫자가 너무 커서 생기는 오류"
   ]
  },
  {
   "cell_type": "code",
   "execution_count": null,
   "id": "84c58d3d-0de4-4380-a4ce-eab3328319e5",
   "metadata": {},
   "outputs": [],
   "source": []
  },
  {
   "cell_type": "code",
   "execution_count": 75,
   "id": "f23f3762-d557-4303-a456-86afccc17fc2",
   "metadata": {},
   "outputs": [
    {
     "name": "stdout",
     "output_type": "stream",
     "text": [
      "Hello\n"
     ]
    },
    {
     "ename": "NameError",
     "evalue": "name 'message' is not defined",
     "output_type": "error",
     "traceback": [
      "\u001b[1;31m---------------------------------------------------------------------------\u001b[0m",
      "\u001b[1;31mNameError\u001b[0m                                 Traceback (most recent call last)",
      "Cell \u001b[1;32mIn[75], line 7\u001b[0m\n\u001b[0;32m      4\u001b[0m     \u001b[38;5;28mprint\u001b[39m(message)\n\u001b[0;32m      6\u001b[0m greet()\n\u001b[1;32m----> 7\u001b[0m \u001b[38;5;28mprint\u001b[39m(message)\n",
      "\u001b[1;31mNameError\u001b[0m: name 'message' is not defined"
     ]
    }
   ],
   "source": [
    "#변수 범위 예시\n",
    "def greet():\n",
    "    message = \"Hello\" #지역 변수\n",
    "    print(message)\n",
    "    \n",
    "greet()\n",
    "print(message) #에러 발생: 'message\"는 함수 내에서만 사용 가능."
   ]
  },
  {
   "cell_type": "code",
   "execution_count": null,
   "id": "08fe8ca0-980d-43e0-a676-7d518c5e47ae",
   "metadata": {},
   "outputs": [],
   "source": []
  }
 ],
 "metadata": {
  "kernelspec": {
   "display_name": "python_study",
   "language": "python",
   "name": "python_study"
  },
  "language_info": {
   "codemirror_mode": {
    "name": "ipython",
    "version": 3
   },
   "file_extension": ".py",
   "mimetype": "text/x-python",
   "name": "python",
   "nbconvert_exporter": "python",
   "pygments_lexer": "ipython3",
   "version": "3.12.7"
  }
 },
 "nbformat": 4,
 "nbformat_minor": 5
}
