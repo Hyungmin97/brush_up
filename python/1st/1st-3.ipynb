{
 "cells": [
  {
   "cell_type": "markdown",
   "id": "d4d3a73b-c099-4926-b9d3-bbf952f985f0",
   "metadata": {},
   "source": [
    "# 다양한 연산자 알아보기"
   ]
  },
  {
   "cell_type": "code",
   "execution_count": 2,
   "id": "4f927b98-acfa-4c3f-9f3e-5cd1b3b5fe5b",
   "metadata": {},
   "outputs": [
    {
     "name": "stdout",
     "output_type": "stream",
     "text": [
      "15\n"
     ]
    }
   ],
   "source": [
    "#대입 연산자\n",
    "x = 10\n",
    "x += 5\n",
    "print(x)"
   ]
  },
  {
   "cell_type": "code",
   "execution_count": 6,
   "id": "52d9087b-dfd1-4482-aec4-223ef85306d7",
   "metadata": {},
   "outputs": [
    {
     "name": "stdout",
     "output_type": "stream",
     "text": [
      "60\n"
     ]
    }
   ],
   "source": [
    "x *= 2\n",
    "print(x)"
   ]
  },
  {
   "cell_type": "code",
   "execution_count": 8,
   "id": "179cca05-082c-4d22-8e26-9d1514abbdc6",
   "metadata": {},
   "outputs": [
    {
     "name": "stdout",
     "output_type": "stream",
     "text": [
      "50\n"
     ]
    }
   ],
   "source": [
    "x -= 10\n",
    "print(x)"
   ]
  },
  {
   "cell_type": "code",
   "execution_count": 10,
   "id": "fbc6e1ff-aa90-47fa-bccd-f856cec08289",
   "metadata": {},
   "outputs": [
    {
     "name": "stdout",
     "output_type": "stream",
     "text": [
      "10.0\n"
     ]
    }
   ],
   "source": [
    "x /= 5\n",
    "print(x)"
   ]
  },
  {
   "cell_type": "code",
   "execution_count": 12,
   "id": "5921301e-df50-4ddf-9107-5e94d2be4741",
   "metadata": {},
   "outputs": [
    {
     "name": "stdout",
     "output_type": "stream",
     "text": [
      "3.0\n"
     ]
    }
   ],
   "source": [
    "x //= 3\n",
    "print(x)"
   ]
  },
  {
   "cell_type": "code",
   "execution_count": 14,
   "id": "06c3418a-7fcc-4d9f-9ee2-89483d4b6176",
   "metadata": {},
   "outputs": [
    {
     "name": "stdout",
     "output_type": "stream",
     "text": [
      "243.0\n"
     ]
    }
   ],
   "source": [
    "x **= 5\n",
    "print(x)"
   ]
  },
  {
   "cell_type": "code",
   "execution_count": 18,
   "id": "96557dfb-1ff0-4902-980d-864b50cb9270",
   "metadata": {},
   "outputs": [
    {
     "name": "stdout",
     "output_type": "stream",
     "text": [
      "0.0\n"
     ]
    }
   ],
   "source": [
    "x %= 3\n",
    "print(x)"
   ]
  },
  {
   "cell_type": "code",
   "execution_count": null,
   "id": "b22b9341-0a69-41b2-9d07-2dd9ff29052f",
   "metadata": {},
   "outputs": [],
   "source": []
  },
  {
   "cell_type": "code",
   "execution_count": 23,
   "id": "4f887982-c401-4cb9-95bc-cc652d2bae65",
   "metadata": {},
   "outputs": [],
   "source": [
    "#비트연산자: 이진수 수준에서 연산 진행\n",
    "\n",
    "#101(이진수)를 십진수로 변환하면 -> 1*2^0 + 0*2^1 + 1*2^2 = 1 + 0 + 4 = 5"
   ]
  },
  {
   "cell_type": "code",
   "execution_count": 29,
   "id": "58d43dc2-ca01-470e-bf46-0ccf58279515",
   "metadata": {},
   "outputs": [
    {
     "name": "stdout",
     "output_type": "stream",
     "text": [
      "1\n",
      "7\n",
      "6\n",
      "-6\n",
      "10\n",
      "2\n"
     ]
    }
   ],
   "source": [
    "a = 5  # 이진수로 101\n",
    "b = 3  # 이진수로 011\n",
    "\n",
    "print(a & b)  # 1 (이진수 001) AND\n",
    "print(a | b)  # 7 (이진수 111) OR\n",
    "print(a ^ b)  # 6 (이진수 110) XOR\n",
    "print(~a)     # -6 (이진수 보수) NOT\n",
    "print(a << 1) # 10 (이진수 1010) Right Shift\n",
    "print(a >> 1) # 2 (이진수 010) # Left Shift"
   ]
  },
  {
   "cell_type": "code",
   "execution_count": null,
   "id": "25a9cfe8-8483-46a6-9f88-79b60371cdbd",
   "metadata": {},
   "outputs": [],
   "source": []
  }
 ],
 "metadata": {
  "kernelspec": {
   "display_name": "python_study",
   "language": "python",
   "name": "python_study"
  },
  "language_info": {
   "codemirror_mode": {
    "name": "ipython",
    "version": 3
   },
   "file_extension": ".py",
   "mimetype": "text/x-python",
   "name": "python",
   "nbconvert_exporter": "python",
   "pygments_lexer": "ipython3",
   "version": "3.12.7"
  }
 },
 "nbformat": 4,
 "nbformat_minor": 5
}
